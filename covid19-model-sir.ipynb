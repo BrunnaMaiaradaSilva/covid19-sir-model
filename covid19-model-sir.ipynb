{
 "cells": [
  {
   "cell_type": "markdown",
   "metadata": {},
   "source": [
    "## Covid-19 Model Sir\n",
    "\n",
    "A simple notebook that tests the SIR model.\n",
    "\n",
    "## References\n",
    "\n",
    "- [SIR Model](https://pt.wikipedia.org/wiki/Modelo_epid%C3%AAmico#O_Modelo_SIR)\n",
    "\n",
    "\n",
    "- ![Dedução](https://cryptpad.fr/file/#/2/file/jJOSfMInO3W7VR2se7obPhCH/?raw=true)\n"
   ]
  },
  {
   "cell_type": "code",
   "execution_count": null,
   "metadata": {},
   "outputs": [],
   "source": []
  },
  {
   "cell_type": "code",
   "execution_count": null,
   "metadata": {},
   "outputs": [],
   "source": []
  }
 ],
 "metadata": {
  "kernelspec": {
   "display_name": "Python 3",
   "language": "python",
   "name": "python3"
  },
  "language_info": {
   "codemirror_mode": {
    "name": "ipython",
    "version": 3
   },
   "file_extension": ".py",
   "mimetype": "text/x-python",
   "name": "python",
   "nbconvert_exporter": "python",
   "pygments_lexer": "ipython3",
   "version": "3.7.3"
  }
 },
 "nbformat": 4,
 "nbformat_minor": 4
}
