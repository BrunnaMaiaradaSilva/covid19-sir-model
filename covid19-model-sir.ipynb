{
 "cells": [
  {
   "cell_type": "markdown",
   "metadata": {},
   "source": [
    "## Covid-19 Model Sir\n",
    "\n",
    "A simple notebook that tests the SIR model.\n",
    "\n",
    "## References\n",
    "\n",
    "- [SIR Model](https://pt.wikipedia.org/wiki/Modelo_epid%C3%AAmico#O_Modelo_SIR)\n",
    "- [COVID-19 Data Brazil - Source 1](https://pt.wikipedia.org/wiki/Pandemia_de_COVID-19_no_Brasil)\n",
    "- [COVID-19 Data Brazil - Source 2](https://en.wikipedia.org/wiki/2020_coronavirus_pandemic_in_Brazil)\n",
    "- [Inspired by HashLDash](https://www.youtube.com/watch?v=XaNvUEX9Kbc)\n",
    "![Dedução](sir-model.png)\n",
    "\n",
    "### Credits to [William Scaff](https://github.com/Huyston)"
   ]
  },
  {
   "cell_type": "markdown",
   "metadata": {},
   "source": [
    "## Example\n",
    "\n",
    "## City of Londrina\n",
    "\n",
    "- Population: 570.000\n",
    "- Infection rate (beta): 0.01\n",
    "- Removal rate (gama): 0.0001\n",
    "- Death rate (gama - heal rate): 0.00002\n",
    "- Infections in zero day: 3\n",
    "- Days of simulation: 90"
   ]
  },
  {
   "cell_type": "code",
   "execution_count": 1,
   "metadata": {},
   "outputs": [
    {
     "name": "stdout",
     "output_type": "stream",
     "text": [
      "Simulação Modelo SIR - COVID-19\n",
      "\n",
      "\n",
      "\n",
      "\n",
      "Insira a populacao total:\n",
      "\n",
      "\n",
      "-> 570000\n",
      "\n",
      "\n",
      "Insira a taxa de infecção (beta):\n",
      "\n",
      "\n",
      "-> 0.01\n",
      "\n",
      "\n",
      "Insira a taxa de remoção (mortes + curados) ou seja (gama):\n",
      "\n",
      "\n",
      "-> 0.0001\n",
      "\n",
      "\n",
      "Insira a taxa de mortalidade (taxa de remoção - curados):\n",
      "\n",
      "\n",
      "-> 0.00002\n",
      "\n",
      "\n",
      "Insira o número de infectados no dia 0:\n",
      "\n",
      "\n",
      "-> 3\n",
      "\n",
      "\n",
      "Insira a quantidade de dias para simular:\n",
      "\n",
      "\n",
      "-> 90\n"
     ]
    },
    {
     "data": {
      "image/png": "[encoded data removed]",
      "text/plain": [
       "<Figure size 432x288 with 1 Axes>"
      ]
     },
     "metadata": {
      "needs_background": "light"
     },
     "output_type": "display_data"
    }
   ],
   "source": [
    "import matplotlib.pyplot as g\n",
    "\n",
    "class Covid():\n",
    "    def __init__(self, populacao, beta, gama, tx_morte, infectados=1, curados=0, mortos=0, tempo_simulacao=40):\n",
    "        self.populacao = populacao\n",
    "        self.beta = beta\n",
    "        self.gama = gama\n",
    "        self.txCura = gama * (1 - tx_morte)\n",
    "        self.tx_morte = gama * tx_morte\n",
    "        self.tempo_simulacao = tempo_simulacao\n",
    "        \n",
    "        self.S = [(populacao - infectados) / populacao]\n",
    "        self.I = [infectados / populacao]\n",
    "        self.M = [mortos / populacao]\n",
    "        self.C = [curados / populacao]\n",
    "        self.tempo = [0]\n",
    "        \n",
    "    def modelo(self):\n",
    "        dt = 0.01\n",
    "        for t in range(int(self.tempo_simulacao / dt)):\n",
    "            S = self.S[-1] - (self.beta * self.S[-1] * self.I[-1]) * dt\n",
    "            I = self.I[-1] + (self.beta * self.S[-1] * self.I[-1] - self.gama * self.I[-1]) * dt\n",
    "            M = self.M[-1] + (self.tx_morte * self.I[-1]) * dt\n",
    "            C = self.C[-1] + (self.txCura * self.I[-1]) * dt\n",
    "            tempo = self.tempo[-1] + dt\n",
    "            \n",
    "            self.S.append(S)\n",
    "            self.I.append(I)\n",
    "            self.M.append(M)\n",
    "            self.C.append(C)\n",
    "            self.tempo.append(tempo)\n",
    "            \n",
    "        self.S = [s * self.populacao for s in self.S]\n",
    "        self.I = [i * self.populacao for i in self.I]\n",
    "        self.M = [m * self.populacao for m in self.M]\n",
    "        self.C = [c * self.populacao for c in self.C]\n",
    "        \n",
    "    def grafico(self):\n",
    "        g.plot(self.tempo, self.S, label='Saudáveis')\n",
    "        g.plot(self.tempo, self.I, label='Infectados')\n",
    "        g.plot(self.tempo, self.M, label='Mortos')\n",
    "        g.plot(self.tempo, self.C, label='Curados')        \n",
    "        g.legend()\n",
    "        g.grid()\n",
    "        g.plot()\n",
    "\n",
    "populacao = int(input('Simulação Modelo SIR - COVID-19\\n\\n\\n\\n\\nInsira a populacao total:\\n\\n\\n-> '))\n",
    "beta = float(input('\\n\\nInsira a taxa de infecção (beta):\\n\\n\\n-> '))\n",
    "gama = float(input('\\n\\nInsira a taxa de remoção (mortes + curados) ou seja (gama):\\n\\n\\n-> '))\n",
    "tx_morte = float(input('\\n\\nInsira a taxa de mortalidade (taxa de remoção - curados):\\n\\n\\n-> '))\n",
    "infectados = int(input('\\n\\nInsira o número de infectados no dia 0:\\n\\n\\n-> '))\n",
    "tempo_simulacao = int(input('\\n\\nInsira a quantidade de dias para simular:\\n\\n\\n-> '))\n",
    "covid19 = Covid(populacao=populacao, beta=beta, gama=gama, tx_morte=tx_morte, infectados=infectados, tempo_simulacao=tempo_simulacao)\n",
    "covid19.modelo()\n",
    "covid19.grafico()"
   ]
  }
 ],
 "metadata": {
  "kernelspec": {
   "display_name": "Python 3",
   "language": "python",
   "name": "python3"
  },
  "language_info": {
   "codemirror_mode": {
    "name": "ipython",
    "version": 3
   },
   "file_extension": ".py",
   "mimetype": "text/x-python",
   "name": "python",
   "nbconvert_exporter": "python",
   "pygments_lexer": "ipython3",
   "version": "3.7.3"
  }
 },
 "nbformat": 4,
 "nbformat_minor": 4
}
